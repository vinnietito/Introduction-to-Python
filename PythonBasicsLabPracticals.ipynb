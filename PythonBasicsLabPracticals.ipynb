{
 "cells": [
  {
   "cell_type": "markdown",
   "metadata": {},
   "source": [
    "## Question 1: Checking Pandas and NumPy Versions"
   ]
  },
  {
   "cell_type": "code",
   "execution_count": 532,
   "metadata": {},
   "outputs": [
    {
     "name": "stdout",
     "output_type": "stream",
     "text": [
      "Numpy Version: 1.26.4\n",
      "Pandas Version: 2.2.2\n"
     ]
    }
   ],
   "source": [
    "import numpy as np\n",
    "import pandas as pd\n",
    "\n",
    "print(\"Numpy Version:\", np.__version__)\n",
    "print(\"Pandas Version:\", pd.__version__)"
   ]
  },
  {
   "cell_type": "markdown",
   "metadata": {},
   "source": [
    "## Question 2: Print a String 10 Times"
   ]
  },
  {
   "cell_type": "code",
   "execution_count": 533,
   "metadata": {},
   "outputs": [
    {
     "name": "stdout",
     "output_type": "stream",
     "text": [
      "Hello BBC/BIT Year 3 AI Team\n",
      "Hello BBC/BIT Year 3 AI Team\n",
      "Hello BBC/BIT Year 3 AI Team\n",
      "Hello BBC/BIT Year 3 AI Team\n",
      "Hello BBC/BIT Year 3 AI Team\n",
      "Hello BBC/BIT Year 3 AI Team\n",
      "Hello BBC/BIT Year 3 AI Team\n",
      "Hello BBC/BIT Year 3 AI Team\n",
      "Hello BBC/BIT Year 3 AI Team\n",
      "Hello BBC/BIT Year 3 AI Team\n"
     ]
    }
   ],
   "source": [
    "for _ in range(10):\n",
    "    print(\"Hello BBC/BIT Year 3 AI Team\")"
   ]
  },
  {
   "cell_type": "markdown",
   "metadata": {},
   "source": [
    "## Question 3: Sum of Two Variables"
   ]
  },
  {
   "cell_type": "code",
   "execution_count": 534,
   "metadata": {},
   "outputs": [
    {
     "name": "stdout",
     "output_type": "stream",
     "text": [
      "Sum: 30\n"
     ]
    }
   ],
   "source": [
    "a, b = 10, 20\n",
    "sum_result = a + b\n",
    "print(\"Sum:\", sum_result)"
   ]
  },
  {
   "cell_type": "markdown",
   "metadata": {},
   "source": [
    "##  Question 4"
   ]
  },
  {
   "cell_type": "markdown",
   "metadata": {},
   "source": [
    "(a) Define a Tuple with One Element"
   ]
  },
  {
   "cell_type": "code",
   "execution_count": 535,
   "metadata": {},
   "outputs": [
    {
     "name": "stdout",
     "output_type": "stream",
     "text": [
      "(5,)\n"
     ]
    }
   ],
   "source": [
    "single_tuple = (5,)\n",
    "print(single_tuple)"
   ]
  },
  {
   "cell_type": "markdown",
   "metadata": {},
   "source": [
    "(b) Print All Elements in a Tuple Using a Loop"
   ]
  },
  {
   "cell_type": "code",
   "execution_count": 536,
   "metadata": {},
   "outputs": [
    {
     "name": "stdout",
     "output_type": "stream",
     "text": [
      "10\n",
      "20\n",
      "30\n",
      "40\n"
     ]
    }
   ],
   "source": [
    "my_tuple = (10, 20, 30, 40)\n",
    "for item in my_tuple:\n",
    "    print(item)"
   ]
  },
  {
   "cell_type": "markdown",
   "metadata": {},
   "source": [
    "## Question 5: Creating a Dictionary"
   ]
  },
  {
   "cell_type": "code",
   "execution_count": 537,
   "metadata": {},
   "outputs": [
    {
     "name": "stdout",
     "output_type": "stream",
     "text": [
      "{'name': 'Reagan’', 'Phone': '+254 722 222333'}\n"
     ]
    }
   ],
   "source": [
    "person = {\"name\": \"Reagan’\", \"Phone\": \"+254 722 222333\"}\n",
    "print(person)"
   ]
  },
  {
   "cell_type": "markdown",
   "metadata": {},
   "source": [
    "##  Question 6: String Operations"
   ]
  },
  {
   "cell_type": "code",
   "execution_count": 538,
   "metadata": {},
   "outputs": [
    {
     "name": "stdout",
     "output_type": "stream",
     "text": [
      "3 * s: Almost Done with AIAlmost Done with AIAlmost Done with AI\n",
      "s[-1]: I\n",
      "s[1]: l\n",
      "s[::2]: Ams oewt I\n"
     ]
    }
   ],
   "source": [
    "s = \"Almost Done with AI\"\n",
    "\n",
    "# a. The value of 3*x\n",
    "print(\"3 * s:\", 3 * s)\n",
    "\n",
    "# b. The value of x[-1]\n",
    "print(\"s[-1]:\", s[-1]) #Last character\n",
    "\n",
    "# c. The value of x[1]\n",
    "print(\"s[1]:\", s[1]) #Second the character\n",
    "\n",
    "# d. The value of x[::2]\n",
    "print(\"s[::2]:\", s[::2]) #Every second character"
   ]
  },
  {
   "cell_type": "markdown",
   "metadata": {},
   "source": [
    "## Question 7: String Manipulation"
   ]
  },
  {
   "cell_type": "code",
   "execution_count": 539,
   "metadata": {},
   "outputs": [
    {
     "name": "stdout",
     "output_type": "stream",
     "text": [
      "Upper => BIT/BBC AI COMRADES\n",
      "Lower => bit/bbc ai comrades\n",
      "split => ['BIT/BBC', 'AI', 'Comrades']\n",
      "join => BIT/BBC+AI+Comrades\n",
      "replace => BIT/BBC AI Comrades\n",
      "find => -1 -1\n",
      "count => 0\n"
     ]
    }
   ],
   "source": [
    "import string\n",
    "\n",
    "text = \"BIT/BBC AI Comrades\"\n",
    "\n",
    "print(\"Upper =>\", text.upper())\n",
    "print(\"Lower =>\", text.lower())\n",
    "print(\"split =>\", text.split())\n",
    "print(\"join =>\", \"+\".join(text.split()))\n",
    "print(\"replace =>\", text.replace(\"Python\", \"Java\"))\n",
    "print(\"find =>\", text.find(\"python\"), text.find(\"Java\"))\n",
    "print(\"count =>\", text.count(\"n\"))"
   ]
  },
  {
   "cell_type": "markdown",
   "metadata": {},
   "source": [
    "## Question 9: Print Numbers Using Loops"
   ]
  },
  {
   "cell_type": "code",
   "execution_count": 540,
   "metadata": {},
   "outputs": [
    {
     "name": "stdout",
     "output_type": "stream",
     "text": [
      "0 1 2 3 4 5 6 7 8 9 10 11 12 13 14 15 16 17 18 19 20 21 22 23 24 25 26 27 28 29 30 31 32 33 34 35 36 37 38 39 40 41 42 43 44 45 46 47 48 49 50 51 52 53 54 55 56 57 58 59 60 61 62 63 64 65 66 67 68 69 70 71 72 73 74 75 76 77 78 79 80 81 82 83 84 85 86 87 88 89 90 91 92 93 94 95 96 97 98 99 100 \n",
      "Numbers divisible bt 7: [0, 7, 14, 21, 28, 35, 42, 49, 56, 63, 70, 77, 84, 91, 98]\n",
      "\n",
      "Numbers divisible by 5 but not 3: [5, 10, 20, 25, 35, 40, 50, 55, 65, 70, 80, 85, 95, 100]\n",
      "Divisors of 2: []\n",
      "Divisors of 3: []\n",
      "Divisors of 4: [2]\n",
      "Divisors of 5: []\n",
      "Divisors of 6: [2, 3]\n",
      "Divisors of 7: []\n",
      "Divisors of 8: [2, 4]\n",
      "Divisors of 9: [3]\n",
      "Divisors of 10: [2, 5]\n",
      "Divisors of 11: []\n",
      "Divisors of 12: [2, 3, 4, 6]\n",
      "Divisors of 13: []\n",
      "Divisors of 14: [2, 7]\n",
      "Divisors of 15: [3, 5]\n",
      "Divisors of 16: [2, 4, 8]\n",
      "Divisors of 17: []\n",
      "Divisors of 18: [2, 3, 6, 9]\n",
      "Divisors of 19: []\n",
      "Divisors of 20: [2, 4, 5, 10]\n"
     ]
    }
   ],
   "source": [
    "# a. Print numbers 0 to 100\n",
    "for i in range(101):\n",
    "    print(i, end=\" \")\n",
    "    \n",
    "# b. Print numbers 0 to 100 divisible by 7\n",
    "print(\"\\nNumbers divisible bt 7:\", [i for i in range(101) if i % 7 == 0])\n",
    "\n",
    "# c. Numbers divisible by 5 but not 3\n",
    "print(\"\\nNumbers divisible by 5 but not 3:\", [i for i in range(1, 101) if i % 5 == 0 and i % 3 != 0])\n",
    "\n",
    "# d. Print divisors (excluding 1 and itself)\n",
    "for  x in range(2,21):\n",
    "    print(f\"Divisors of {x}:\", [i for i in range(2, x) if x % i == 0])"
   ]
  },
  {
   "cell_type": "markdown",
   "metadata": {},
   "source": [
    "## Question 10"
   ]
  },
  {
   "cell_type": "markdown",
   "metadata": {},
   "source": [
    "(a) Multiplication Function"
   ]
  },
  {
   "cell_type": "code",
   "execution_count": 541,
   "metadata": {},
   "outputs": [
    {
     "name": "stdout",
     "output_type": "stream",
     "text": [
      "48\n"
     ]
    }
   ],
   "source": [
    "def multiplication(a, b):\n",
    "    return a * b\n",
    "\n",
    "print(multiplication(8, 6)) #Outputs 48"
   ]
  },
  {
   "cell_type": "markdown",
   "metadata": {},
   "source": [
    "(b) Square of Product Function"
   ]
  },
  {
   "cell_type": "code",
   "execution_count": 542,
   "metadata": {},
   "outputs": [
    {
     "name": "stdout",
     "output_type": "stream",
     "text": [
      "100\n"
     ]
    }
   ],
   "source": [
    "def sqrProd(x, y):\n",
    "    return (x * y) ** 2\n",
    "\n",
    "print(sqrProd(2, 5)) #Output: 100"
   ]
  },
  {
   "cell_type": "markdown",
   "metadata": {},
   "source": [
    "## Question 11: NumPy Operations"
   ]
  },
  {
   "cell_type": "code",
   "execution_count": 543,
   "metadata": {},
   "outputs": [
    {
     "name": "stdout",
     "output_type": "stream",
     "text": [
      "[[0. 0. 0. 0. 0.]\n",
      " [0. 0. 0. 0. 0.]\n",
      " [0. 0. 0. 0. 0.]\n",
      " [0. 0. 0. 0. 0.]\n",
      " [0. 0. 0. 0. 0.]]\n",
      "\n",
      "\n",
      "[[0 1 2]\n",
      " [3 4 5]\n",
      " [6 7 8]]\n",
      "\n",
      "\n",
      "Non-zero indices: (array([0, 1, 4], dtype=int64),)\n",
      "\n",
      "\n",
      "Min: 0.006709498559738125 Max: 0.987664167307276\n",
      "\n",
      "\n",
      "[0.36251894 0.9820689  0.14842079 0.09425862 0.87067817 0.10790964\n",
      " 0.40911628 0.24456168 0.31814192 0.52069945 0.02060931 0.1104172\n",
      " 0.91271548 0.54016543 0.20654145 0.98363233 0.54934479 0.82675562\n",
      " 0.8378146  0.0392503  0.65385869 0.97894609 0.94363456 0.56627668\n",
      " 0.27840001 0.96988791 0.37585355 0.04915235 0.70814421 0.53745066]\n",
      "Mean: 0.5049075209826126\n",
      "\n",
      "\n"
     ]
    }
   ],
   "source": [
    "import numpy as np\n",
    "\n",
    "# (a) Create a 5X5 array of zeros\n",
    "arr_zeros = np.zeros((5, 5))\n",
    "print(arr_zeros)\n",
    "print(\"\\n\")\n",
    "\n",
    "# (b) Create a 3X3 matrix with values from 0 to 8\n",
    "matrix_3X3 = np.arange(9).reshape(3, 3)\n",
    "print(matrix_3X3)\n",
    "print(\"\\n\")\n",
    "\n",
    "# (c) Find indices of non-zero elements\n",
    "arr = np.array([1, 2, 0, 0, 4, 0])\n",
    "non_zero_indices = np.nonzero(arr)\n",
    "print(\"Non-zero indices:\", non_zero_indices)\n",
    "print(\"\\n\")\n",
    "\n",
    "# (d) Create a 10X10 random array and find min/max\n",
    "rand_matrix = np.random.rand(10, 10)\n",
    "#print(rand_matrix)\n",
    "print(\"Min:\", rand_matrix.min(), \"Max:\", rand_matrix.max())\n",
    "print(\"\\n\")\n",
    "\n",
    "# (e) Create a random vector of size 30 and find mean\n",
    "rand_vector = np.random.rand(30)\n",
    "print(rand_vector)\n",
    "print(\"Mean:\", rand_vector.mean())\n",
    "print(\"\\n\")"
   ]
  },
  {
   "cell_type": "markdown",
   "metadata": {},
   "source": [
    "## Question 12: User Input for Math Operations"
   ]
  },
  {
   "cell_type": "code",
   "execution_count": null,
   "metadata": {},
   "outputs": [
    {
     "name": "stdout",
     "output_type": "stream",
     "text": [
      "Sum:  30\n",
      "Product:  200\n",
      "Diffrence:  -10\n",
      "Quotient:  0.5\n"
     ]
    }
   ],
   "source": [
    "a = int(input(\"Enter first number: \"))\n",
    "b= int(input(\"Enter second number: \"))\n",
    "\n",
    "print(\"Sum: \", a + b)\n",
    "print(\"Product: \", a* b)\n",
    "print(\"Diffrence: \", a - b)\n",
    "print(\"Quotient: \", a /b if b != 0 else \"Cannot divide bt zero\")"
   ]
  },
  {
   "cell_type": "markdown",
   "metadata": {},
   "source": [
    "## Question 13"
   ]
  },
  {
   "cell_type": "markdown",
   "metadata": {},
   "source": [
    "(a) Function to Double List Elements"
   ]
  },
  {
   "cell_type": "code",
   "execution_count": 545,
   "metadata": {},
   "outputs": [
    {
     "name": "stdout",
     "output_type": "stream",
     "text": [
      "6\n",
      "2\n",
      "10\n"
     ]
    }
   ],
   "source": [
    "def doubleList(numberList):\n",
    "    for num in numberList:\n",
    "        print(num * 2)\n",
    "        \n",
    "doubleList([3, 1, 5]) #Outputs 6, 2, 10"
   ]
  },
  {
   "cell_type": "markdown",
   "metadata": {},
   "source": [
    "(b) Polynomial Evaluation"
   ]
  },
  {
   "cell_type": "code",
   "execution_count": 546,
   "metadata": {},
   "outputs": [
    {
     "name": "stdout",
     "output_type": "stream",
     "text": [
      "26\n"
     ]
    }
   ],
   "source": [
    "def polynomial(x):\n",
    "    return 3 * (x ** 2) - x + 2\n",
    "\n",
    "print(polynomial(3)) #Outputs: 26"
   ]
  },
  {
   "cell_type": "markdown",
   "metadata": {},
   "source": [
    "(c) Maximum Function Without max()"
   ]
  },
  {
   "cell_type": "code",
   "execution_count": 547,
   "metadata": {},
   "outputs": [
    {
     "name": "stdout",
     "output_type": "stream",
     "text": [
      "20\n",
      "20\n"
     ]
    }
   ],
   "source": [
    "#Using if-else\n",
    "def my_max(x, y):\n",
    "    if x > y:\n",
    "        return x\n",
    "    else:\n",
    "        return y\n",
    "    \n",
    "    \n",
    "#Using only if\n",
    "def my_max_if(x, y):\n",
    "    if x > y:\n",
    "        return x\n",
    "    return y\n",
    "\n",
    "print(my_max(10, 20)) #Output: 20\n",
    "print(my_max_if(10, 20)) #Ouput: 20\n"
   ]
  },
  {
   "cell_type": "markdown",
   "metadata": {},
   "source": [
    "(d) Area and Circumference of a Circle"
   ]
  },
  {
   "cell_type": "code",
   "execution_count": 548,
   "metadata": {},
   "outputs": [
    {
     "name": "stdout",
     "output_type": "stream",
     "text": [
      "Area:  153.93804002589985\n",
      "Circumfrence: 43.982297150257104\n"
     ]
    }
   ],
   "source": [
    "import math\n",
    "\n",
    "def area(radius):\n",
    "    return math.pi * radius ** 2\n",
    "\n",
    "def circum(radius):\n",
    "    return 2 * math.pi * radius\n",
    "\n",
    "#r = float(input(\"Enter the radius of the circle: \"))\n",
    "print(\"Area: \", area(r))\n",
    "print(\"Circumfrence:\", circum(r))"
   ]
  },
  {
   "cell_type": "markdown",
   "metadata": {},
   "source": [
    "## Question 14: Object-Oriented Programming (OOP)"
   ]
  },
  {
   "cell_type": "markdown",
   "metadata": {},
   "source": [
    "(a) Vehicle Class"
   ]
  },
  {
   "cell_type": "code",
   "execution_count": 549,
   "metadata": {},
   "outputs": [
    {
     "name": "stdout",
     "output_type": "stream",
     "text": [
      "Max Speed: 240 Km/h, Mileage: 10000 Km\n"
     ]
    }
   ],
   "source": [
    "class Vehicle:\n",
    "    def __init__(self, max_speed, mileage):\n",
    "        self.max_speed = max_speed\n",
    "        self.mileage = mileage\n",
    "        \n",
    "car = Vehicle(240, 10000)        \n",
    "print(f\"Max Speed: {car.max_speed} Km/h, Mileage: {car.mileage} Km\")"
   ]
  },
  {
   "cell_type": "markdown",
   "metadata": {},
   "source": [
    "(b) Bus Class (Inheritance)"
   ]
  },
  {
   "cell_type": "code",
   "execution_count": 550,
   "metadata": {},
   "outputs": [
    {
     "name": "stdout",
     "output_type": "stream",
     "text": [
      "Name: School Mercedes, Max Speed: 180, Mileage: 1000\n"
     ]
    }
   ],
   "source": [
    "class Bus(Vehicle):\n",
    "    def __init__(self, name, max_speed, mileage):\n",
    "        super().__init__(max_speed, mileage)\n",
    "        self.name = name\n",
    "        \n",
    "bus = Bus(\"School Mercedes\", 180, 1000)\n",
    "print(f\"Name: {bus.name}, Max Speed: {bus.max_speed}, Mileage: {bus.mileage}\")"
   ]
  },
  {
   "cell_type": "markdown",
   "metadata": {},
   "source": [
    "(c) Bus with Default Seating Capacity"
   ]
  },
  {
   "cell_type": "code",
   "execution_count": 551,
   "metadata": {},
   "outputs": [
    {
     "name": "stdout",
     "output_type": "stream",
     "text": [
      "Seating Capacity: 50\n"
     ]
    }
   ],
   "source": [
    "class Bus(Vehicle):\n",
    "    def __init__(self, name, max_speed, mileage, seating_capacity=50):\n",
    "        super().__init__(max_speed, mileage)\n",
    "        self.name = name\n",
    "        self.seating_capacity = seating_capacity\n",
    "        \n",
    "bus = Bus(\"School Mercedes\", 180, 1000)\n",
    "print(f\"Seating Capacity: {bus.seating_capacity}\")"
   ]
  },
  {
   "cell_type": "markdown",
   "metadata": {},
   "source": [
    "(d) Default Color Attribute"
   ]
  },
  {
   "cell_type": "code",
   "execution_count": 552,
   "metadata": {},
   "outputs": [
    {
     "name": "stdout",
     "output_type": "stream",
     "text": [
      "Vehicle Color: White\n"
     ]
    }
   ],
   "source": [
    "class Vehicle:\n",
    "    color = \"White\"\n",
    "    \n",
    "car = Vehicle()\n",
    "print(\"Vehicle Color:\", car.color)"
   ]
  }
 ],
 "metadata": {
  "kernelspec": {
   "display_name": "base",
   "language": "python",
   "name": "python3"
  },
  "language_info": {
   "codemirror_mode": {
    "name": "ipython",
    "version": 3
   },
   "file_extension": ".py",
   "mimetype": "text/x-python",
   "name": "python",
   "nbconvert_exporter": "python",
   "pygments_lexer": "ipython3",
   "version": "3.12.7"
  }
 },
 "nbformat": 4,
 "nbformat_minor": 2
}
