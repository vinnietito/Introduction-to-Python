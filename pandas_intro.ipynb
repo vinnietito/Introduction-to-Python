{
 "cells": [
  {
   "cell_type": "markdown",
   "metadata": {},
   "source": [
    "## Write and Run Your First Cell"
   ]
  },
  {
   "cell_type": "code",
   "execution_count": 746,
   "metadata": {},
   "outputs": [
    {
     "data": {
      "text/html": [
       "<div>\n",
       "<style scoped>\n",
       "    .dataframe tbody tr th:only-of-type {\n",
       "        vertical-align: middle;\n",
       "    }\n",
       "\n",
       "    .dataframe tbody tr th {\n",
       "        vertical-align: top;\n",
       "    }\n",
       "\n",
       "    .dataframe thead th {\n",
       "        text-align: right;\n",
       "    }\n",
       "</style>\n",
       "<table border=\"1\" class=\"dataframe\">\n",
       "  <thead>\n",
       "    <tr style=\"text-align: right;\">\n",
       "      <th></th>\n",
       "      <th>Name</th>\n",
       "      <th>Age</th>\n",
       "      <th>City</th>\n",
       "      <th>Occupation</th>\n",
       "    </tr>\n",
       "  </thead>\n",
       "  <tbody>\n",
       "    <tr>\n",
       "      <th>0</th>\n",
       "      <td>Alice</td>\n",
       "      <td>25</td>\n",
       "      <td>Nairobi</td>\n",
       "      <td>Thief</td>\n",
       "    </tr>\n",
       "    <tr>\n",
       "      <th>1</th>\n",
       "      <td>Bob</td>\n",
       "      <td>30</td>\n",
       "      <td>Mombasa</td>\n",
       "      <td>Scammer</td>\n",
       "    </tr>\n",
       "    <tr>\n",
       "      <th>2</th>\n",
       "      <td>Charlie</td>\n",
       "      <td>35</td>\n",
       "      <td>Kisumu</td>\n",
       "      <td>Plumber</td>\n",
       "    </tr>\n",
       "    <tr>\n",
       "      <th>3</th>\n",
       "      <td>Kimanthi</td>\n",
       "      <td>23</td>\n",
       "      <td>Juja</td>\n",
       "      <td>Network Engineer</td>\n",
       "    </tr>\n",
       "    <tr>\n",
       "      <th>4</th>\n",
       "      <td>Kaven</td>\n",
       "      <td>18</td>\n",
       "      <td>Juja</td>\n",
       "      <td>Nurse</td>\n",
       "    </tr>\n",
       "    <tr>\n",
       "      <th>5</th>\n",
       "      <td>Sheila</td>\n",
       "      <td>22</td>\n",
       "      <td>Meru</td>\n",
       "      <td>Chef</td>\n",
       "    </tr>\n",
       "    <tr>\n",
       "      <th>6</th>\n",
       "      <td>Erick</td>\n",
       "      <td>28</td>\n",
       "      <td>Mwea</td>\n",
       "      <td>Doctor</td>\n",
       "    </tr>\n",
       "  </tbody>\n",
       "</table>\n",
       "</div>"
      ],
      "text/plain": [
       "       Name  Age     City        Occupation\n",
       "0     Alice   25  Nairobi             Thief\n",
       "1       Bob   30  Mombasa           Scammer\n",
       "2   Charlie   35   Kisumu           Plumber\n",
       "3  Kimanthi   23     Juja  Network Engineer\n",
       "4     Kaven   18     Juja             Nurse\n",
       "5    Sheila   22     Meru              Chef\n",
       "6     Erick   28     Mwea            Doctor"
      ]
     },
     "execution_count": 746,
     "metadata": {},
     "output_type": "execute_result"
    }
   ],
   "source": [
    "import pandas as pd\n",
    "\n",
    "#Creating a simple DataFrame\n",
    "data = {\n",
    "    'Name':['Alice', 'Bob', 'Charlie', 'Kimanthi', 'Kaven', 'Sheila', 'Erick'],\n",
    "    'Age':[25, 30, 35, 23, 18, 22, 28],\n",
    "    'City':['Nairobi', 'Mombasa', 'Kisumu', 'Juja', 'Juja', 'Meru', 'Mwea'],\n",
    "    'Occupation':['Thief', 'Scammer', 'Plumber', 'Network Engineer', 'Nurse', 'Chef', 'Doctor']\n",
    "}\n",
    "\n",
    "df = pd.DataFrame(data)\n",
    "\n",
    "# Display DataFrame\n",
    "df"
   ]
  },
  {
   "cell_type": "markdown",
   "metadata": {},
   "source": [
    "# 1. Exploring DataFrames (Columns, Rows, Info, Describe)"
   ]
  },
  {
   "cell_type": "markdown",
   "metadata": {},
   "source": [
    "Checking the First and Last Few Rows"
   ]
  },
  {
   "cell_type": "code",
   "execution_count": 747,
   "metadata": {},
   "outputs": [
    {
     "name": "stdout",
     "output_type": "stream",
     "text": [
      "       Name  Age     City        Occupation\n",
      "0     Alice   25  Nairobi             Thief\n",
      "1       Bob   30  Mombasa           Scammer\n",
      "2   Charlie   35   Kisumu           Plumber\n",
      "3  Kimanthi   23     Juja  Network Engineer\n",
      "4     Kaven   18     Juja             Nurse\n",
      "     Name  Age  City Occupation\n",
      "5  Sheila   22  Meru       Chef\n",
      "6   Erick   28  Mwea     Doctor\n"
     ]
    }
   ],
   "source": [
    "print(df.head()) # First 5 rows\n",
    "print(df.tail(2)) # Last 2 rows"
   ]
  },
  {
   "cell_type": "markdown",
   "metadata": {},
   "source": [
    "Getting Basics Information"
   ]
  },
  {
   "cell_type": "code",
   "execution_count": 748,
   "metadata": {},
   "outputs": [
    {
     "name": "stdout",
     "output_type": "stream",
     "text": [
      "Index(['Name', 'Age', 'City', 'Occupation'], dtype='object')\n"
     ]
    }
   ],
   "source": [
    "#print(df.info()) # Overview of columns, data types and missing values\n",
    "#print(df.shape) #Get the number of rows and columns\n",
    "#print(df.columns) #List all column names\n",
    "#print(df.index) #Show index range\n",
    "print(df.columns)"
   ]
  },
  {
   "cell_type": "markdown",
   "metadata": {},
   "source": [
    "Summary Statistics"
   ]
  },
  {
   "cell_type": "code",
   "execution_count": 749,
   "metadata": {},
   "outputs": [
    {
     "name": "stdout",
     "output_type": "stream",
     "text": [
      "             Age\n",
      "count   7.000000\n",
      "mean   25.857143\n",
      "std     5.639993\n",
      "min    18.000000\n",
      "25%    22.500000\n",
      "50%    25.000000\n",
      "75%    29.000000\n",
      "max    35.000000\n",
      "         Name        Age  City Occupation\n",
      "count       7   7.000000     7          7\n",
      "unique      7        NaN     6          7\n",
      "top     Alice        NaN  Juja      Thief\n",
      "freq        1        NaN     2          1\n",
      "mean      NaN  25.857143   NaN        NaN\n",
      "std       NaN   5.639993   NaN        NaN\n",
      "min       NaN  18.000000   NaN        NaN\n",
      "25%       NaN  22.500000   NaN        NaN\n",
      "50%       NaN  25.000000   NaN        NaN\n",
      "75%       NaN  29.000000   NaN        NaN\n",
      "max       NaN  35.000000   NaN        NaN\n"
     ]
    }
   ],
   "source": [
    "print(df.describe()) #Summary statistics for numerical columns\n",
    "print(df.describe(include='all')) #Include non-numeric columns"
   ]
  },
  {
   "cell_type": "markdown",
   "metadata": {},
   "source": [
    "## 2. Data Selection & Filtering"
   ]
  },
  {
   "cell_type": "markdown",
   "metadata": {},
   "source": [
    ">Selecting Columns"
   ]
  },
  {
   "cell_type": "code",
   "execution_count": 750,
   "metadata": {},
   "outputs": [
    {
     "name": "stdout",
     "output_type": "stream",
     "text": [
      "0       Alice\n",
      "1         Bob\n",
      "2     Charlie\n",
      "3    Kimanthi\n",
      "4       Kaven\n",
      "5      Sheila\n",
      "6       Erick\n",
      "Name: Name, dtype: object\n"
     ]
    }
   ],
   "source": [
    "print(df['Name']) #Returns a single column as a Series"
   ]
  },
  {
   "cell_type": "markdown",
   "metadata": {},
   "source": [
    "To get multiple Columns"
   ]
  },
  {
   "cell_type": "code",
   "execution_count": 751,
   "metadata": {},
   "outputs": [
    {
     "name": "stdout",
     "output_type": "stream",
     "text": [
      "       Name     City\n",
      "0     Alice  Nairobi\n",
      "1       Bob  Mombasa\n",
      "2   Charlie   Kisumu\n",
      "3  Kimanthi     Juja\n",
      "4     Kaven     Juja\n",
      "5    Sheila     Meru\n",
      "6     Erick     Mwea\n"
     ]
    }
   ],
   "source": [
    "print(df[['Name', 'City']]) #Returns a DataFrame with selected columns"
   ]
  },
  {
   "cell_type": "markdown",
   "metadata": {},
   "source": [
    "Selecting Rows Using loc[] and iloc[]\n"
   ]
  },
  {
   "cell_type": "markdown",
   "metadata": {},
   "source": [
    "Using loc[] (Label-based selection)"
   ]
  },
  {
   "cell_type": "code",
   "execution_count": 752,
   "metadata": {},
   "outputs": [
    {
     "name": "stdout",
     "output_type": "stream",
     "text": [
      "Name            Alice\n",
      "Age                25\n",
      "City          Nairobi\n",
      "Occupation      Thief\n",
      "Name: 0, dtype: object\n"
     ]
    }
   ],
   "source": [
    "print(df.loc[0]) #Get the first row by index label"
   ]
  },
  {
   "cell_type": "code",
   "execution_count": 753,
   "metadata": {},
   "outputs": [
    {
     "name": "stdout",
     "output_type": "stream",
     "text": [
      "    Name  Age     City Occupation\n",
      "0  Alice   25  Nairobi      Thief\n",
      "1    Bob   30  Mombasa    Scammer\n"
     ]
    }
   ],
   "source": [
    "print(df.loc[0:1]) #Get first two rows(inclusive)"
   ]
  },
  {
   "cell_type": "markdown",
   "metadata": {},
   "source": [
    "Using iloc[] (Position-based selection)"
   ]
  },
  {
   "cell_type": "code",
   "execution_count": 754,
   "metadata": {},
   "outputs": [
    {
     "name": "stdout",
     "output_type": "stream",
     "text": [
      "Name            Alice\n",
      "Age                25\n",
      "City          Nairobi\n",
      "Occupation      Thief\n",
      "Name: 0, dtype: object\n"
     ]
    }
   ],
   "source": [
    "print(df.iloc[0]) #Get the first row by position\n"
   ]
  },
  {
   "cell_type": "code",
   "execution_count": 755,
   "metadata": {},
   "outputs": [
    {
     "name": "stdout",
     "output_type": "stream",
     "text": [
      "    Name  Age     City Occupation\n",
      "0  Alice   25  Nairobi      Thief\n",
      "1    Bob   30  Mombasa    Scammer\n"
     ]
    }
   ],
   "source": [
    "print(df.iloc[0:2]) #Get first two rows(excluding 2)"
   ]
  },
  {
   "cell_type": "markdown",
   "metadata": {},
   "source": [
    "Filtering Data(Condition Selection)\n"
   ]
  },
  {
   "cell_type": "markdown",
   "metadata": {},
   "source": [
    "Filter rows where Age is greater than 25"
   ]
  },
  {
   "cell_type": "code",
   "execution_count": 756,
   "metadata": {},
   "outputs": [
    {
     "name": "stdout",
     "output_type": "stream",
     "text": [
      "      Name  Age     City Occupation\n",
      "1      Bob   30  Mombasa    Scammer\n",
      "2  Charlie   35   Kisumu    Plumber\n",
      "6    Erick   28     Mwea     Doctor\n"
     ]
    }
   ],
   "source": [
    "print(df[df['Age'] > 25])"
   ]
  },
  {
   "cell_type": "markdown",
   "metadata": {},
   "source": [
    "Filter rows where City is \"Juja\""
   ]
  },
  {
   "cell_type": "code",
   "execution_count": 757,
   "metadata": {},
   "outputs": [
    {
     "name": "stdout",
     "output_type": "stream",
     "text": [
      "       Name  Age  City        Occupation\n",
      "3  Kimanthi   23  Juja  Network Engineer\n",
      "4     Kaven   18  Juja             Nurse\n"
     ]
    }
   ],
   "source": [
    "print(df[df['City'] == 'Juja'])"
   ]
  },
  {
   "cell_type": "markdown",
   "metadata": {},
   "source": [
    "Filter with multiple conditions (& for AND, | for OR)"
   ]
  },
  {
   "cell_type": "code",
   "execution_count": 758,
   "metadata": {},
   "outputs": [
    {
     "name": "stdout",
     "output_type": "stream",
     "text": [
      "    Name  Age     City Occupation\n",
      "1    Bob   30  Mombasa    Scammer\n",
      "6  Erick   28     Mwea     Doctor\n"
     ]
    }
   ],
   "source": [
    "print(df[(df['Age'] > 25) & (df['City'] == 'Mombasa') | (df['City'] == 'Mwea')])"
   ]
  },
  {
   "cell_type": "code",
   "execution_count": 759,
   "metadata": {},
   "outputs": [
    {
     "name": "stdout",
     "output_type": "stream",
     "text": [
      "       Name  Age     City        Occupation\n",
      "0     Alice   25  Nairobi             Thief\n",
      "3  Kimanthi   23     Juja  Network Engineer\n",
      "4     Kaven   18     Juja             Nurse\n",
      "5    Sheila   22     Meru              Chef\n",
      "6     Erick   28     Mwea            Doctor\n"
     ]
    }
   ],
   "source": [
    "print(df[(df['Age'] < 30) | (df['City'] == 'Juja')])"
   ]
  },
  {
   "cell_type": "markdown",
   "metadata": {},
   "source": [
    "## 3. Modifying DataFrames"
   ]
  },
  {
   "cell_type": "markdown",
   "metadata": {},
   "source": [
    "Adding a new column"
   ]
  },
  {
   "cell_type": "code",
   "execution_count": 760,
   "metadata": {},
   "outputs": [
    {
     "name": "stdout",
     "output_type": "stream",
     "text": [
      "       Name  Age     City        Occupation  Salary\n",
      "0     Alice   25  Nairobi             Thief   10000\n",
      "1       Bob   30  Mombasa           Scammer   12000\n",
      "2   Charlie   35   Kisumu           Plumber    8000\n",
      "3  Kimanthi   23     Juja  Network Engineer  350000\n",
      "4     Kaven   18     Juja             Nurse  120000\n",
      "5    Sheila   22     Meru              Chef   90000\n",
      "6     Erick   28     Mwea            Doctor  300000\n"
     ]
    }
   ],
   "source": [
    "# Create a new column called \"Salary\" and set values\n",
    "df['Salary'] = [10000, 12000, 8000, 350000, 120000, 90000, 300000]\n",
    "print(df)"
   ]
  },
  {
   "cell_type": "code",
   "execution_count": 761,
   "metadata": {},
   "outputs": [
    {
     "name": "stdout",
     "output_type": "stream",
     "text": [
      "       Name  Age     City        Occupation  Salary  Age in 10 years\n",
      "0     Alice   25  Nairobi             Thief   10000               35\n",
      "1       Bob   30  Mombasa           Scammer   12000               40\n",
      "2   Charlie   35   Kisumu           Plumber    8000               45\n",
      "3  Kimanthi   23     Juja  Network Engineer  350000               33\n",
      "4     Kaven   18     Juja             Nurse  120000               28\n",
      "5    Sheila   22     Meru              Chef   90000               32\n",
      "6     Erick   28     Mwea            Doctor  300000               38\n"
     ]
    }
   ],
   "source": [
    "# Create a column based on existing data\n",
    "df['Age in 10 years'] = df['Age'] + 10\n",
    "print(df)"
   ]
  },
  {
   "cell_type": "markdown",
   "metadata": {},
   "source": [
    "Updating Values"
   ]
  },
  {
   "cell_type": "code",
   "execution_count": 762,
   "metadata": {},
   "outputs": [
    {
     "name": "stdout",
     "output_type": "stream",
     "text": [
      "       Name  Age     City        Occupation  Salary  Age in 10 years\n",
      "0     Alice   25  Nairobi             Thief   10000               35\n",
      "1       Bob   32  Mombasa           Scammer   12000               40\n",
      "2   Charlie   35   Kisumu           Plumber    8000               45\n",
      "3  Kimanthi   23     Juja  Network Engineer  400000               33\n",
      "4     Kaven   18     Juja             Nurse  120000               28\n",
      "5    Sheila   22     Meru              Chef   90000               32\n",
      "6     Erick   28     Mwea            Doctor  300000               38\n"
     ]
    }
   ],
   "source": [
    "#Modifying a single value\n",
    "df.at[1, 'Age'] = 32 #update Age for Bob(index 1)\n",
    "df.at[3, 'Salary'] = 400000\n",
    "print(df)"
   ]
  },
  {
   "cell_type": "code",
   "execution_count": 763,
   "metadata": {},
   "outputs": [
    {
     "name": "stdout",
     "output_type": "stream",
     "text": [
      "       Name  Age     City        Occupation  Salary  Age in 10 years\n",
      "0     Alice   25  Nairobi             Thief   10000               35\n",
      "1       Bob   32  Mombasa           Scammer   12000               40\n",
      "2   Charlie   35   Kisumu           Plumber    8000               45\n",
      "3  Kimanthi   23     Juja  Network Engineer  400000               33\n",
      "4     Kaven   18     Juja             Nurse  120000               28\n",
      "5    Sheila   22     Meru              Chef   90000               32\n",
      "6     Erick   28     Mwea            Doctor  350000               38\n"
     ]
    }
   ],
   "source": [
    "#Modify a column based on a condition\n",
    "df.loc[df['City'] == 'Mwea', 'Salary'] = 350000\n",
    "print(df)"
   ]
  },
  {
   "cell_type": "markdown",
   "metadata": {},
   "source": [
    "Deleting Columns and Rows"
   ]
  },
  {
   "cell_type": "code",
   "execution_count": 764,
   "metadata": {},
   "outputs": [
    {
     "name": "stdout",
     "output_type": "stream",
     "text": [
      "       Name  Age     City        Occupation  Salary\n",
      "0     Alice   25  Nairobi             Thief   10000\n",
      "1       Bob   32  Mombasa           Scammer   12000\n",
      "2   Charlie   35   Kisumu           Plumber    8000\n",
      "3  Kimanthi   23     Juja  Network Engineer  400000\n",
      "4     Kaven   18     Juja             Nurse  120000\n",
      "5    Sheila   22     Meru              Chef   90000\n",
      "6     Erick   28     Mwea            Doctor  350000\n"
     ]
    }
   ],
   "source": [
    "#Remove a column\n",
    "df.drop(columns=['Age in 10 years'], inplace=True)\n",
    "print(df)"
   ]
  },
  {
   "cell_type": "code",
   "execution_count": 765,
   "metadata": {},
   "outputs": [
    {
     "name": "stdout",
     "output_type": "stream",
     "text": [
      "       Name  Age     City        Occupation  Salary\n",
      "0     Alice   25  Nairobi             Thief   10000\n",
      "1       Bob   32  Mombasa           Scammer   12000\n",
      "3  Kimanthi   23     Juja  Network Engineer  400000\n",
      "4     Kaven   18     Juja             Nurse  120000\n",
      "5    Sheila   22     Meru              Chef   90000\n",
      "6     Erick   28     Mwea            Doctor  350000\n"
     ]
    }
   ],
   "source": [
    "#Remove a row\n",
    "df.drop(index=2, inplace=True) #Remove row with index 2 (Charlie)\n",
    "print(df)"
   ]
  },
  {
   "cell_type": "markdown",
   "metadata": {},
   "source": [
    "## 4. Sorting & Grouping in Pandas"
   ]
  },
  {
   "cell_type": "markdown",
   "metadata": {},
   "source": [
    "Sorting Data"
   ]
  },
  {
   "cell_type": "code",
   "execution_count": 766,
   "metadata": {},
   "outputs": [
    {
     "name": "stdout",
     "output_type": "stream",
     "text": [
      "       Name  Age     City        Occupation  Salary\n",
      "4     Kaven   18     Juja             Nurse  120000\n",
      "5    Sheila   22     Meru              Chef   90000\n",
      "3  Kimanthi   23     Juja  Network Engineer  400000\n",
      "0     Alice   25  Nairobi             Thief   10000\n",
      "6     Erick   28     Mwea            Doctor  350000\n",
      "1       Bob   32  Mombasa           Scammer   12000\n"
     ]
    }
   ],
   "source": [
    "#Sort by single column\n",
    "df_sorted = df.sort_values(by='Age') #Sort by age(Ascending by deafault)\n",
    "print(df_sorted)"
   ]
  },
  {
   "cell_type": "code",
   "execution_count": 767,
   "metadata": {},
   "outputs": [
    {
     "name": "stdout",
     "output_type": "stream",
     "text": [
      "       Name  Age     City        Occupation  Salary\n",
      "3  Kimanthi   23     Juja  Network Engineer  400000\n",
      "6     Erick   28     Mwea            Doctor  350000\n",
      "4     Kaven   18     Juja             Nurse  120000\n",
      "5    Sheila   22     Meru              Chef   90000\n",
      "1       Bob   32  Mombasa           Scammer   12000\n",
      "0     Alice   25  Nairobi             Thief   10000\n"
     ]
    }
   ],
   "source": [
    "#Sort in descending order\n",
    "df_sorted_desc = df.sort_values(by='Salary', ascending=False)\n",
    "print(df_sorted_desc)"
   ]
  },
  {
   "cell_type": "code",
   "execution_count": 768,
   "metadata": {},
   "outputs": [
    {
     "name": "stdout",
     "output_type": "stream",
     "text": [
      "       Name  Age     City        Occupation  Salary\n",
      "3  Kimanthi   23     Juja  Network Engineer  400000\n",
      "4     Kaven   18     Juja             Nurse  120000\n",
      "5    Sheila   22     Meru              Chef   90000\n",
      "1       Bob   32  Mombasa           Scammer   12000\n",
      "6     Erick   28     Mwea            Doctor  350000\n",
      "0     Alice   25  Nairobi             Thief   10000\n"
     ]
    }
   ],
   "source": [
    "#Sort by multiple coumns\n",
    "df_sorted_multi = df.sort_values(by=['City', 'Age'], ascending=[True, False])\n",
    "print(df_sorted_multi)"
   ]
  },
  {
   "cell_type": "markdown",
   "metadata": {},
   "source": [
    "Grouping & Aggregation"
   ]
  },
  {
   "cell_type": "code",
   "execution_count": 769,
   "metadata": {},
   "outputs": [
    {
     "name": "stdout",
     "output_type": "stream",
     "text": [
      "City\n",
      "Juja       2\n",
      "Meru       1\n",
      "Mombasa    1\n",
      "Mwea       1\n",
      "Nairobi    1\n",
      "dtype: int64\n"
     ]
    }
   ],
   "source": [
    "#Group by a column and count\n",
    "df_grouped = df.groupby('City').size()\n",
    "print(df_grouped)"
   ]
  },
  {
   "cell_type": "code",
   "execution_count": 770,
   "metadata": {},
   "outputs": [
    {
     "name": "stdout",
     "output_type": "stream",
     "text": [
      "City\n",
      "Juja       20.5\n",
      "Meru       22.0\n",
      "Mombasa    32.0\n",
      "Mwea       28.0\n",
      "Nairobi    25.0\n",
      "Name: Age, dtype: float64\n"
     ]
    }
   ],
   "source": [
    "#Group and calculate the average age per city\n",
    "df_avg_age = df.groupby('City')['Age'].mean()\n",
    "print(df_avg_age)"
   ]
  },
  {
   "cell_type": "code",
   "execution_count": 771,
   "metadata": {},
   "outputs": [
    {
     "name": "stdout",
     "output_type": "stream",
     "text": [
      "          Age        \n",
      "         mean min max\n",
      "City                 \n",
      "Juja     20.5  18  23\n",
      "Meru     22.0  22  22\n",
      "Mombasa  32.0  32  32\n",
      "Mwea     28.0  28  28\n",
      "Nairobi  25.0  25  25\n"
     ]
    }
   ],
   "source": [
    "#Group and calculate multiple stats(mean, max, min)\n",
    "df_summary = df.groupby('City').agg({'Age': ['mean', 'min', 'max']})\n",
    "print(df_summary)"
   ]
  },
  {
   "cell_type": "markdown",
   "metadata": {},
   "source": [
    "## 5. Handling Missing Data"
   ]
  },
  {
   "cell_type": "markdown",
   "metadata": {},
   "source": [
    "Checking for missing Values"
   ]
  },
  {
   "cell_type": "code",
   "execution_count": 772,
   "metadata": {},
   "outputs": [
    {
     "name": "stdout",
     "output_type": "stream",
     "text": [
      "    Name    Age   City  Occupation  Salary\n",
      "0  False  False  False       False   False\n",
      "1  False  False  False       False   False\n",
      "3  False  False  False       False   False\n",
      "4  False  False  False       False   False\n",
      "5  False  False  False       False   False\n",
      "6  False  False  False       False   False\n",
      "Name          0\n",
      "Age           0\n",
      "City          0\n",
      "Occupation    0\n",
      "Salary        0\n",
      "dtype: int64\n"
     ]
    }
   ],
   "source": [
    "#To check if there are missing values in the DataFrame\n",
    "print(df.isnull()) #Shows True for missing values, false otherwise\n",
    "print(df.isnull().sum()) #Count missing values per column"
   ]
  },
  {
   "cell_type": "markdown",
   "metadata": {},
   "source": [
    "Filling Missing Values"
   ]
  },
  {
   "cell_type": "code",
   "execution_count": 773,
   "metadata": {},
   "outputs": [],
   "source": [
    "#Fill with a specific value\n",
    "df.fillna(\"Unknown\", inplace=True)"
   ]
  },
  {
   "cell_type": "code",
   "execution_count": 774,
   "metadata": {},
   "outputs": [
    {
     "name": "stderr",
     "output_type": "stream",
     "text": [
      "C:\\Users\\user\\AppData\\Local\\Temp\\ipykernel_18692\\4187810572.py:2: FutureWarning: A value is trying to be set on a copy of a DataFrame or Series through chained assignment using an inplace method.\n",
      "The behavior will change in pandas 3.0. This inplace method will never work because the intermediate object on which we are setting values always behaves as a copy.\n",
      "\n",
      "For example, when doing 'df[col].method(value, inplace=True)', try using 'df.method({col: value}, inplace=True)' or df[col] = df[col].method(value) instead, to perform the operation inplace on the original object.\n",
      "\n",
      "\n",
      "  df['Age'].fillna(df['Age'].mean(), inplace=True)\n"
     ]
    }
   ],
   "source": [
    "#Fill with the column mean (for numeric data)\n",
    "df['Age'].fillna(df['Age'].mean(), inplace=True)"
   ]
  },
  {
   "cell_type": "markdown",
   "metadata": {},
   "source": [
    "Fill with the previous value (ffill) or next value (bfill)"
   ]
  },
  {
   "cell_type": "code",
   "execution_count": 775,
   "metadata": {},
   "outputs": [
    {
     "name": "stderr",
     "output_type": "stream",
     "text": [
      "C:\\Users\\user\\AppData\\Local\\Temp\\ipykernel_18692\\78294306.py:1: FutureWarning: DataFrame.fillna with 'method' is deprecated and will raise in a future version. Use obj.ffill() or obj.bfill() instead.\n",
      "  df.fillna(method='ffill', inplace=True)  # Forward fill\n",
      "C:\\Users\\user\\AppData\\Local\\Temp\\ipykernel_18692\\78294306.py:2: FutureWarning: DataFrame.fillna with 'method' is deprecated and will raise in a future version. Use obj.ffill() or obj.bfill() instead.\n",
      "  df.fillna(method='bfill', inplace=True)  # Backward fill\n"
     ]
    }
   ],
   "source": [
    "df.fillna(method='ffill', inplace=True)  # Forward fill\n",
    "df.fillna(method='bfill', inplace=True)  # Backward fill\n"
   ]
  }
 ],
 "metadata": {
  "kernelspec": {
   "display_name": "base",
   "language": "python",
   "name": "python3"
  },
  "language_info": {
   "codemirror_mode": {
    "name": "ipython",
    "version": 3
   },
   "file_extension": ".py",
   "mimetype": "text/x-python",
   "name": "python",
   "nbconvert_exporter": "python",
   "pygments_lexer": "ipython3",
   "version": "3.12.7"
  }
 },
 "nbformat": 4,
 "nbformat_minor": 2
}
